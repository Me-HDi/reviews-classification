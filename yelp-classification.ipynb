{
 "cells": [
  {
   "cell_type": "code",
   "execution_count": 1,
   "metadata": {},
   "outputs": [],
   "source": [
    "import pandas as pd\n",
    "import seaborn as sns\n",
    "import nltk\n",
    "import numpy as np\n",
    "import wordcloud"
   ]
  },
  {
   "cell_type": "code",
   "execution_count": 5,
   "metadata": {},
   "outputs": [
    {
     "name": "stdout",
     "output_type": "stream",
     "text": [
      "--2022-04-29 17:40:45--  https://cf-courses-data.s3.us.cloud-object-storage.appdomain.cloud/classification-of-yelp-restaurant-reviews-using-sentiment-analysis/asset/sample_data.json\n",
      "Resolving cf-courses-data.s3.us.cloud-object-storage.appdomain.cloud (cf-courses-data.s3.us.cloud-object-storage.appdomain.cloud)... 169.63.118.104\n",
      "Connecting to cf-courses-data.s3.us.cloud-object-storage.appdomain.cloud (cf-courses-data.s3.us.cloud-object-storage.appdomain.cloud)|169.63.118.104|:443... connected.\n",
      "HTTP request sent, awaiting response... 200 OK\n",
      "Length: 70142708 (67M) [application/json]\n",
      "Saving to: ‘data/yelp_rev.json’\n",
      "\n",
      "data/yelp_rev.json  100%[===================>]  66.89M  1.24MB/s    in 53s     \n",
      "\n",
      "2022-04-29 17:41:41 (1.25 MB/s) - ‘data/yelp_rev.json’ saved [70142708/70142708]\n",
      "\n"
     ]
    }
   ],
   "source": [
    "# !wget -O data/yelp_rev.json https://cf-courses-data.s3.us.cloud-object-storage.appdomain.cloud/classification-of-yelp-restaurant-reviews-using-sentiment-analysis/asset/sample_data.json"
   ]
  },
  {
   "cell_type": "code",
   "execution_count": 7,
   "metadata": {},
   "outputs": [
    {
     "name": "stdout",
     "output_type": "stream",
     "text": [
      "<class 'pandas.core.frame.DataFrame'>\n",
      "Int64Index: 86354 entries, 0 to 86353\n",
      "Data columns (total 11 columns):\n",
      " #   Column       Non-Null Count  Dtype         \n",
      "---  ------       --------------  -----         \n",
      " 0   index        86354 non-null  int64         \n",
      " 1   review_id    86354 non-null  object        \n",
      " 2   user_id      86354 non-null  object        \n",
      " 3   business_id  86354 non-null  object        \n",
      " 4   stars        86354 non-null  int64         \n",
      " 5   useful       86354 non-null  int64         \n",
      " 6   funny        86354 non-null  int64         \n",
      " 7   cool         86354 non-null  int64         \n",
      " 8   text         86354 non-null  object        \n",
      " 9   date         86354 non-null  datetime64[ns]\n",
      " 10  year         86354 non-null  int64         \n",
      "dtypes: datetime64[ns](1), int64(6), object(4)\n",
      "memory usage: 7.9+ MB\n",
      "None\n"
     ]
    },
    {
     "data": {
      "text/html": [
       "<div>\n",
       "<style scoped>\n",
       "    .dataframe tbody tr th:only-of-type {\n",
       "        vertical-align: middle;\n",
       "    }\n",
       "\n",
       "    .dataframe tbody tr th {\n",
       "        vertical-align: top;\n",
       "    }\n",
       "\n",
       "    .dataframe thead th {\n",
       "        text-align: right;\n",
       "    }\n",
       "</style>\n",
       "<table border=\"1\" class=\"dataframe\">\n",
       "  <thead>\n",
       "    <tr style=\"text-align: right;\">\n",
       "      <th></th>\n",
       "      <th>index</th>\n",
       "      <th>review_id</th>\n",
       "      <th>user_id</th>\n",
       "      <th>business_id</th>\n",
       "      <th>stars</th>\n",
       "      <th>useful</th>\n",
       "      <th>funny</th>\n",
       "      <th>cool</th>\n",
       "      <th>text</th>\n",
       "      <th>date</th>\n",
       "      <th>year</th>\n",
       "    </tr>\n",
       "  </thead>\n",
       "  <tbody>\n",
       "    <tr>\n",
       "      <th>0</th>\n",
       "      <td>4686059</td>\n",
       "      <td>aFz1itIWIl7Qojxhpa0VoQ</td>\n",
       "      <td>SsUKdScC6NKcnFFio75wMA</td>\n",
       "      <td>H1ifIm6P1TgCjxM-TOlgTw</td>\n",
       "      <td>1</td>\n",
       "      <td>1</td>\n",
       "      <td>1</td>\n",
       "      <td>0</td>\n",
       "      <td>Ok so now i go to see a movie and homeboy hand...</td>\n",
       "      <td>2016-11-19 20:40:09</td>\n",
       "      <td>2016</td>\n",
       "    </tr>\n",
       "    <tr>\n",
       "      <th>1</th>\n",
       "      <td>6762380</td>\n",
       "      <td>s_ba4NB2G2QWS3izLkvl5Q</td>\n",
       "      <td>q5zFh3bhuLy6u7CzYlsa8Q</td>\n",
       "      <td>3r3RHfuLPgRSiRkp5udXSw</td>\n",
       "      <td>5</td>\n",
       "      <td>0</td>\n",
       "      <td>0</td>\n",
       "      <td>0</td>\n",
       "      <td>It wasn't my choice to eat breakfast here, but...</td>\n",
       "      <td>2019-09-02 17:40:35</td>\n",
       "      <td>2019</td>\n",
       "    </tr>\n",
       "    <tr>\n",
       "      <th>2</th>\n",
       "      <td>491263</td>\n",
       "      <td>K1I5yuJICQpInOy-wCCo9A</td>\n",
       "      <td>UqqqBhqlAHiHfB_V3BNmvw</td>\n",
       "      <td>ljGzs5MhfnH1pKfJjFFRlQ</td>\n",
       "      <td>5</td>\n",
       "      <td>0</td>\n",
       "      <td>0</td>\n",
       "      <td>0</td>\n",
       "      <td>The staff is very friendly and I really like D...</td>\n",
       "      <td>2017-06-25 01:27:59</td>\n",
       "      <td>2017</td>\n",
       "    </tr>\n",
       "    <tr>\n",
       "      <th>3</th>\n",
       "      <td>6662859</td>\n",
       "      <td>NOwHErM1-u4d8Z6vSS7FwA</td>\n",
       "      <td>cmHaLdW8ssAXK2MKZ2idmw</td>\n",
       "      <td>xoJSkBTusOEt8PPvuw2qEQ</td>\n",
       "      <td>1</td>\n",
       "      <td>0</td>\n",
       "      <td>2</td>\n",
       "      <td>0</td>\n",
       "      <td>I usually have a great experience here but lef...</td>\n",
       "      <td>2017-02-05 20:22:26</td>\n",
       "      <td>2017</td>\n",
       "    </tr>\n",
       "    <tr>\n",
       "      <th>4</th>\n",
       "      <td>7361472</td>\n",
       "      <td>JjvOoHUs-OrPEnuUUanDsw</td>\n",
       "      <td>dTSwfFTTHPHwSe48qDkPXg</td>\n",
       "      <td>wTBid_bYRigHAl6vNHYeOQ</td>\n",
       "      <td>5</td>\n",
       "      <td>4</td>\n",
       "      <td>1</td>\n",
       "      <td>1</td>\n",
       "      <td>UPDATE:\\nI have been contacted shortly after t...</td>\n",
       "      <td>2016-03-03 17:59:40</td>\n",
       "      <td>2016</td>\n",
       "    </tr>\n",
       "  </tbody>\n",
       "</table>\n",
       "</div>"
      ],
      "text/plain": [
       "     index               review_id                 user_id  \\\n",
       "0  4686059  aFz1itIWIl7Qojxhpa0VoQ  SsUKdScC6NKcnFFio75wMA   \n",
       "1  6762380  s_ba4NB2G2QWS3izLkvl5Q  q5zFh3bhuLy6u7CzYlsa8Q   \n",
       "2   491263  K1I5yuJICQpInOy-wCCo9A  UqqqBhqlAHiHfB_V3BNmvw   \n",
       "3  6662859  NOwHErM1-u4d8Z6vSS7FwA  cmHaLdW8ssAXK2MKZ2idmw   \n",
       "4  7361472  JjvOoHUs-OrPEnuUUanDsw  dTSwfFTTHPHwSe48qDkPXg   \n",
       "\n",
       "              business_id  stars  useful  funny  cool  \\\n",
       "0  H1ifIm6P1TgCjxM-TOlgTw      1       1      1     0   \n",
       "1  3r3RHfuLPgRSiRkp5udXSw      5       0      0     0   \n",
       "2  ljGzs5MhfnH1pKfJjFFRlQ      5       0      0     0   \n",
       "3  xoJSkBTusOEt8PPvuw2qEQ      1       0      2     0   \n",
       "4  wTBid_bYRigHAl6vNHYeOQ      5       4      1     1   \n",
       "\n",
       "                                                text                date  year  \n",
       "0  Ok so now i go to see a movie and homeboy hand... 2016-11-19 20:40:09  2016  \n",
       "1  It wasn't my choice to eat breakfast here, but... 2019-09-02 17:40:35  2019  \n",
       "2  The staff is very friendly and I really like D... 2017-06-25 01:27:59  2017  \n",
       "3  I usually have a great experience here but lef... 2017-02-05 20:22:26  2017  \n",
       "4  UPDATE:\\nI have been contacted shortly after t... 2016-03-03 17:59:40  2016  "
      ]
     },
     "execution_count": 7,
     "metadata": {},
     "output_type": "execute_result"
    }
   ],
   "source": [
    "rev = pd.read_json('data/yelp_rev.json')\n",
    "print(rev.info())\n",
    "rev.head()"
   ]
  },
  {
   "cell_type": "code",
   "execution_count": 27,
   "metadata": {},
   "outputs": [
    {
     "data": {
      "text/plain": [
       "'I love Stumptown Coffee! This location has a cool vibe and lots of seating. This was one of our favorite coffee spots on our trip to Portland.'"
      ]
     },
     "execution_count": 27,
     "metadata": {},
     "output_type": "execute_result"
    }
   ],
   "source": [
    "rev['text'][10810]"
   ]
  },
  {
   "cell_type": "code",
   "execution_count": 12,
   "metadata": {},
   "outputs": [],
   "source": [
    "reviews=rev[['text','stars']]"
   ]
  },
  {
   "cell_type": "code",
   "execution_count": 16,
   "metadata": {},
   "outputs": [
    {
     "data": {
      "text/plain": [
       "Text(0, 0.5, 'count')"
      ]
     },
     "execution_count": 16,
     "metadata": {},
     "output_type": "execute_result"
    },
    {
     "data": {
      "image/png": "[encoded data removed]",
      "text/plain": [
       "<Figure size 432x288 with 1 Axes>"
      ]
     },
     "metadata": {
      "needs_background": "light"
     },
     "output_type": "display_data"
    }
   ],
   "source": [
    "cplot = sns.countplot(x='stars', data=reviews, palette=\"Blues_d\")\n",
    "cplot.set_title('stars')\n",
    "cplot.set_ylabel('count')"
   ]
  },
  {
   "cell_type": "markdown",
   "metadata": {},
   "source": [
    "## TEXT CLEANING"
   ]
  },
  {
   "cell_type": "code",
   "execution_count": 28,
   "metadata": {},
   "outputs": [
    {
     "data": {
      "text/plain": [
       "'!\"#$%&\\'()*+,-./:;<=>?@[\\\\]^_`{|}~'"
      ]
     },
     "execution_count": 28,
     "metadata": {},
     "output_type": "execute_result"
    }
   ],
   "source": [
    "from nltk.corpus import stopwords\n",
    "import string\n",
    "cachedStopWords = stopwords.words(\"english\")\n",
    "string.punctuation"
   ]
  },
  {
   "cell_type": "code",
   "execution_count": 29,
   "metadata": {},
   "outputs": [],
   "source": [
    "def remove_punc_stopword(text):\n",
    "\n",
    "    remove_punc = [ch for ch in text.lower() if ch not in string.punctuation]\n",
    "    remove_punc = ''.join(remove_punc)\n",
    "    return [word for word in remove_punc.split() if word not in cachedStopWords]"
   ]
  },
  {
   "cell_type": "code",
   "execution_count": 30,
   "metadata": {},
   "outputs": [],
   "source": [
    "cleaned_reviews = reviews.copy()\n",
    "cleaned_reviews['text'] = reviews['text'].apply(remove_punc_stopword)"
   ]
  },
  {
   "cell_type": "code",
   "execution_count": 34,
   "metadata": {},
   "outputs": [
    {
     "data": {
      "text/plain": [
       "'Ok so now i go to see a movie and homeboy hands me a sheet.  where do you want to sit? \\nim like \"whatever bro ill find my seat when I walk in.\"\\n\"oh its all reserved seating \"\\n\\nthats the most idiotic thing ive ever heard.   lazy millenials cant even bother to search for a seat.  gotta reserve them like a bunch of petulant little sissys.'"
      ]
     },
     "execution_count": 34,
     "metadata": {},
     "output_type": "execute_result"
    }
   ],
   "source": [
    "reviews['text'][0]"
   ]
  },
  {
   "cell_type": "code",
   "execution_count": 35,
   "metadata": {
    "scrolled": true
   },
   "outputs": [
    {
     "name": "stdout",
     "output_type": "stream",
     "text": [
      "['ok', 'go', 'see', 'movie', 'homeboy', 'hands', 'sheet', 'want', 'sit', 'im', 'like', 'whatever', 'bro', 'ill', 'find', 'seat', 'walk', 'oh', 'reserved', 'seating', 'thats', 'idiotic', 'thing', 'ive', 'ever', 'heard', 'lazy', 'millenials', 'cant', 'even', 'bother', 'search', 'seat', 'gotta', 'reserve', 'like', 'bunch', 'petulant', 'little', 'sissys']\n"
     ]
    }
   ],
   "source": [
    "print(cleaned_reviews['text'][0])"
   ]
  },
  {
   "cell_type": "code",
   "execution_count": 38,
   "metadata": {},
   "outputs": [
    {
     "data": {
      "text/plain": [
       "['!\"#$%&\\'()*+,-./:;<=>?@[\\\\]^_`{|}~']"
      ]
     },
     "execution_count": 38,
     "metadata": {},
     "output_type": "execute_result"
    }
   ],
   "source": [
    "string.punctuation.split()"
   ]
  },
  {
   "cell_type": "code",
   "execution_count": 51,
   "metadata": {},
   "outputs": [
    {
     "name": "stderr",
     "output_type": "stream",
     "text": [
      "[nltk_data] Downloading package punkt to\n",
      "[nltk_data]     /Users/mehdielhaylali/nltk_data...\n",
      "[nltk_data]   Unzipping tokenizers/punkt.zip.\n"
     ]
    },
    {
     "data": {
      "text/plain": [
       "True"
      ]
     },
     "execution_count": 51,
     "metadata": {},
     "output_type": "execute_result"
    }
   ],
   "source": [
    "# nltk.download('punkt')"
   ]
  },
  {
   "cell_type": "code",
   "execution_count": 52,
   "metadata": {},
   "outputs": [],
   "source": [
    "# using nltk\n",
    "from nltk.tokenize import word_tokenize\n",
    "def nltk_tokenizer(text):\n",
    "    tokens = word_tokenize(text.lower())\n",
    "    return [token for token in tokens if token not in cachedStopWords and token not in string.punctuation]\n",
    "\n",
    "nltk_cleaned_reviews = reviews.copy()\n",
    "nltk_cleaned_reviews['text'] = reviews['text'].apply(nltk_tokenizer)"
   ]
  },
  {
   "cell_type": "code",
   "execution_count": 53,
   "metadata": {},
   "outputs": [
    {
     "name": "stdout",
     "output_type": "stream",
     "text": [
      "['ok', 'go', 'see', 'movie', 'homeboy', 'hands', 'sheet', 'want', 'sit', 'im', 'like', '``', 'whatever', 'bro', 'ill', 'find', 'seat', 'walk', \"''\", '``', 'oh', 'reserved', 'seating', '``', 'thats', 'idiotic', 'thing', 'ive', 'ever', 'heard', 'lazy', 'millenials', 'cant', 'even', 'bother', 'search', 'seat', 'got', 'ta', 'reserve', 'like', 'bunch', 'petulant', 'little', 'sissys']\n"
     ]
    }
   ],
   "source": [
    "print(nltk_cleaned_reviews['text'][0])"
   ]
  },
  {
   "cell_type": "code",
   "execution_count": null,
   "metadata": {},
   "outputs": [],
   "source": []
  }
 ],
 "metadata": {
  "kernelspec": {
   "display_name": "Python 3",
   "language": "python",
   "name": "python3"
  },
  "language_info": {
   "codemirror_mode": {
    "name": "ipython",
    "version": 3
   },
   "file_extension": ".py",
   "mimetype": "text/x-python",
   "name": "python",
   "nbconvert_exporter": "python",
   "pygments_lexer": "ipython3",
   "version": "3.8.5"
  }
 },
 "nbformat": 4,
 "nbformat_minor": 4
}
